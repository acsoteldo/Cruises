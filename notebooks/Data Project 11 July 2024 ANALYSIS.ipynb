{
 "cells": [
  {
   "cell_type": "code",
   "execution_count": 1,
   "id": "2ba9c46d",
   "metadata": {},
   "outputs": [
    {
     "data": {
      "text/plain": [
       "Ship_name             object\n",
       "Cruise_line           object\n",
       "Age                    int64\n",
       "Tonnage              float64\n",
       "Passengers           float64\n",
       "Length               float64\n",
       "Cabins               float64\n",
       "Passenger_density    float64\n",
       "Crew                 float64\n",
       "dtype: object"
      ]
     },
     "execution_count": 1,
     "metadata": {},
     "output_type": "execute_result"
    }
   ],
   "source": [
    "import pandas as pd\n",
    "import numpy as np\n",
    "import seaborn as sns\n",
    "import matplotlib.pyplot as plt\n",
    "import statsmodels.api as sm\n",
    "\n",
    "data = pd.read_csv(r\"cruise_dataset CLEANED.csv\")\n",
    "\n",
    "data.head()\n",
    "data.dtypes"
   ]
  },
  {
   "cell_type": "code",
   "execution_count": 2,
   "id": "e1c718a6",
   "metadata": {},
   "outputs": [
    {
     "data": {
      "text/html": [
       "<div>\n",
       "<style scoped>\n",
       "    .dataframe tbody tr th:only-of-type {\n",
       "        vertical-align: middle;\n",
       "    }\n",
       "\n",
       "    .dataframe tbody tr th {\n",
       "        vertical-align: top;\n",
       "    }\n",
       "\n",
       "    .dataframe thead th {\n",
       "        text-align: right;\n",
       "    }\n",
       "</style>\n",
       "<table border=\"1\" class=\"dataframe\">\n",
       "  <thead>\n",
       "    <tr style=\"text-align: right;\">\n",
       "      <th></th>\n",
       "      <th>Ship_name</th>\n",
       "      <th>Cruise_line</th>\n",
       "      <th>Age</th>\n",
       "      <th>Tonnage</th>\n",
       "      <th>Passengers</th>\n",
       "      <th>Length</th>\n",
       "      <th>Cabins</th>\n",
       "      <th>Passenger_density</th>\n",
       "      <th>Crew</th>\n",
       "      <th>Emissions</th>\n",
       "      <th>Fuel_consumption</th>\n",
       "    </tr>\n",
       "  </thead>\n",
       "  <tbody>\n",
       "    <tr>\n",
       "      <th>0</th>\n",
       "      <td>Journey</td>\n",
       "      <td>Azamara</td>\n",
       "      <td>6</td>\n",
       "      <td>30.277</td>\n",
       "      <td>6.94</td>\n",
       "      <td>5.94</td>\n",
       "      <td>3.55</td>\n",
       "      <td>42.64</td>\n",
       "      <td>3.55</td>\n",
       "      <td>13.4988</td>\n",
       "      <td>17.2205</td>\n",
       "    </tr>\n",
       "    <tr>\n",
       "      <th>1</th>\n",
       "      <td>Quest</td>\n",
       "      <td>Azamara</td>\n",
       "      <td>6</td>\n",
       "      <td>30.277</td>\n",
       "      <td>6.94</td>\n",
       "      <td>5.94</td>\n",
       "      <td>3.55</td>\n",
       "      <td>42.64</td>\n",
       "      <td>3.55</td>\n",
       "      <td>13.4988</td>\n",
       "      <td>17.2205</td>\n",
       "    </tr>\n",
       "    <tr>\n",
       "      <th>2</th>\n",
       "      <td>Celebration</td>\n",
       "      <td>Carnival</td>\n",
       "      <td>26</td>\n",
       "      <td>47.262</td>\n",
       "      <td>14.86</td>\n",
       "      <td>7.22</td>\n",
       "      <td>7.43</td>\n",
       "      <td>31.80</td>\n",
       "      <td>6.70</td>\n",
       "      <td>21.8768</td>\n",
       "      <td>28.0890</td>\n",
       "    </tr>\n",
       "    <tr>\n",
       "      <th>3</th>\n",
       "      <td>Conquest</td>\n",
       "      <td>Carnival</td>\n",
       "      <td>11</td>\n",
       "      <td>110.000</td>\n",
       "      <td>29.74</td>\n",
       "      <td>9.53</td>\n",
       "      <td>14.88</td>\n",
       "      <td>36.99</td>\n",
       "      <td>19.10</td>\n",
       "      <td>49.9480</td>\n",
       "      <td>63.9220</td>\n",
       "    </tr>\n",
       "    <tr>\n",
       "      <th>4</th>\n",
       "      <td>Destiny</td>\n",
       "      <td>Carnival</td>\n",
       "      <td>17</td>\n",
       "      <td>101.353</td>\n",
       "      <td>26.42</td>\n",
       "      <td>8.92</td>\n",
       "      <td>13.21</td>\n",
       "      <td>38.36</td>\n",
       "      <td>10.00</td>\n",
       "      <td>45.8252</td>\n",
       "      <td>58.6025</td>\n",
       "    </tr>\n",
       "  </tbody>\n",
       "</table>\n",
       "</div>"
      ],
      "text/plain": [
       "     Ship_name Cruise_line  Age  Tonnage  Passengers  Length  Cabins  \\\n",
       "0      Journey     Azamara    6   30.277        6.94    5.94    3.55   \n",
       "1        Quest     Azamara    6   30.277        6.94    5.94    3.55   \n",
       "2  Celebration    Carnival   26   47.262       14.86    7.22    7.43   \n",
       "3     Conquest    Carnival   11  110.000       29.74    9.53   14.88   \n",
       "4      Destiny    Carnival   17  101.353       26.42    8.92   13.21   \n",
       "\n",
       "   Passenger_density   Crew  Emissions  Fuel_consumption  \n",
       "0              42.64   3.55    13.4988           17.2205  \n",
       "1              42.64   3.55    13.4988           17.2205  \n",
       "2              31.80   6.70    21.8768           28.0890  \n",
       "3              36.99  19.10    49.9480           63.9220  \n",
       "4              38.36  10.00    45.8252           58.6025  "
      ]
     },
     "execution_count": 2,
     "metadata": {},
     "output_type": "execute_result"
    }
   ],
   "source": [
    "data['Emissions'] = data['Tonnage'] * 0.4 + data['Passengers'] * 0.2\n",
    "data['Fuel_consumption'] = data['Tonnage'] * 0.5 + data['Passengers'] * 0.3\n",
    "\n",
    "data.head()"
   ]
  },
  {
   "cell_type": "code",
   "execution_count": 3,
   "id": "6f6b1dd6",
   "metadata": {},
   "outputs": [
    {
     "name": "stdout",
     "output_type": "stream",
     "text": [
      "                            OLS Regression Results                            \n",
      "==============================================================================\n",
      "Dep. Variable:       Fuel_consumption   R-squared:                       1.000\n",
      "Model:                            OLS   Adj. R-squared:                  1.000\n",
      "Method:                 Least Squares   F-statistic:                 6.449e+31\n",
      "Date:                Thu, 11 Jul 2024   Prob (F-statistic):               0.00\n",
      "Time:                        19:22:35   Log-Likelihood:                 4735.0\n",
      "No. Observations:                 158   AIC:                            -9464.\n",
      "Df Residuals:                     155   BIC:                            -9455.\n",
      "Df Model:                           2                                         \n",
      "Covariance Type:            nonrobust                                         \n",
      "==============================================================================\n",
      "                 coef    std err          t      P>|t|      [0.025      0.975]\n",
      "------------------------------------------------------------------------------\n",
      "const       1.776e-15    4.1e-15      0.433      0.666   -6.33e-15    9.88e-15\n",
      "Tonnage        0.5000   1.55e-16   3.23e+15      0.000       0.500       0.500\n",
      "Passengers     0.3000   5.95e-16   5.04e+14      0.000       0.300       0.300\n",
      "==============================================================================\n",
      "Omnibus:                       11.658   Durbin-Watson:                   0.280\n",
      "Prob(Omnibus):                  0.003   Jarque-Bera (JB):               14.076\n",
      "Skew:                           0.500   Prob(JB):                     0.000878\n",
      "Kurtosis:                       4.066   Cond. No.                         181.\n",
      "==============================================================================\n",
      "\n",
      "Notes:\n",
      "[1] Standard Errors assume that the covariance matrix of the errors is correctly specified.\n",
      "                            OLS Regression Results                            \n",
      "==============================================================================\n",
      "Dep. Variable:              Emissions   R-squared:                       1.000\n",
      "Model:                            OLS   Adj. R-squared:                  1.000\n",
      "Method:                 Least Squares   F-statistic:                 9.711e+31\n",
      "Date:                Thu, 11 Jul 2024   Prob (F-statistic):               0.00\n",
      "Time:                        19:22:35   Log-Likelihood:                 4806.1\n",
      "No. Observations:                 158   AIC:                            -9606.\n",
      "Df Residuals:                     155   BIC:                            -9597.\n",
      "Df Model:                           2                                         \n",
      "Covariance Type:            nonrobust                                         \n",
      "==============================================================================\n",
      "                 coef    std err          t      P>|t|      [0.025      0.975]\n",
      "------------------------------------------------------------------------------\n",
      "const       1.998e-15   2.62e-15      0.764      0.446   -3.17e-15    7.17e-15\n",
      "Tonnage        0.4000   9.87e-17   4.05e+15      0.000       0.400       0.400\n",
      "Passengers     0.2000    3.8e-16   5.27e+14      0.000       0.200       0.200\n",
      "==============================================================================\n",
      "Omnibus:                        7.267   Durbin-Watson:                   0.367\n",
      "Prob(Omnibus):                  0.026   Jarque-Bera (JB):                6.380\n",
      "Skew:                           0.414   Prob(JB):                       0.0412\n",
      "Kurtosis:                       2.469   Cond. No.                         181.\n",
      "==============================================================================\n",
      "\n",
      "Notes:\n",
      "[1] Standard Errors assume that the covariance matrix of the errors is correctly specified.\n"
     ]
    }
   ],
   "source": [
    "df = pd.DataFrame(data)\n",
    "\n",
    "# Regression for Fuel Consumption\n",
    "X = df[['Tonnage', 'Passengers']]\n",
    "y = df['Fuel_consumption']\n",
    "X = sm.add_constant(X)  # Adds a constant term to the predictor\n",
    "model = sm.OLS(y, X).fit()\n",
    "print(model.summary())\n",
    "\n",
    "# Regression for Emissions\n",
    "y = df['Emissions']\n",
    "model = sm.OLS(y, X).fit()\n",
    "print(model.summary())"
   ]
  },
  {
   "cell_type": "code",
   "execution_count": 4,
   "id": "69310d74",
   "metadata": {},
   "outputs": [
    {
     "data": {
      "image/png": "[encoded data removed]",
      "text/plain": [
       "<Figure size 576x432 with 1 Axes>"
      ]
     },
     "metadata": {
      "needs_background": "light"
     },
     "output_type": "display_data"
    }
   ],
   "source": [
    "# Convert data to DataFrame\n",
    "df = pd.DataFrame(data)\n",
    "\n",
    "# Plotting Tonnage vs. Crew\n",
    "plt.figure(figsize=(8, 6))\n",
    "plt.scatter(df['Tonnage'], df['Crew'], alpha=0.5)\n",
    "plt.title('Tonnage vs. Crew')\n",
    "plt.xlabel('Tonnage')\n",
    "plt.ylabel('Crew')\n",
    "plt.grid(True)\n",
    "plt.show()"
   ]
  },
  {
   "cell_type": "code",
   "execution_count": 5,
   "id": "d7fa9abc",
   "metadata": {},
   "outputs": [],
   "source": [
    "##Discuss how ship size (tonnage) influences crew requirements. Larger ships typically require more crew to operate efficiently."
   ]
  },
  {
   "cell_type": "code",
   "execution_count": 6,
   "id": "993adc6a",
   "metadata": {},
   "outputs": [
    {
     "data": {
      "image/png": "[encoded data removed]",
      "text/plain": [
       "<Figure size 576x432 with 1 Axes>"
      ]
     },
     "metadata": {
      "needs_background": "light"
     },
     "output_type": "display_data"
    }
   ],
   "source": [
    "# Plotting Passenger Density vs. Emissions\n",
    "plt.figure(figsize=(8, 6))\n",
    "plt.scatter(df['Passenger_density'], df['Emissions'], alpha=0.5)\n",
    "plt.title('Passenger Density vs. Emissions')\n",
    "plt.xlabel('Passenger Density')\n",
    "plt.ylabel('Emissions')\n",
    "plt.grid(True)\n",
    "plt.show()"
   ]
  },
  {
   "cell_type": "code",
   "execution_count": 7,
   "id": "48e9587a",
   "metadata": {},
   "outputs": [],
   "source": [
    "##Explore the relationship between passenger density and emissions. Higher passenger density can lead to increased emissions per passenger mile traveled."
   ]
  },
  {
   "cell_type": "code",
   "execution_count": 8,
   "id": "04229f81",
   "metadata": {},
   "outputs": [
    {
     "data": {
      "image/png": "[encoded data removed]",
      "text/plain": [
       "<Figure size 576x432 with 1 Axes>"
      ]
     },
     "metadata": {
      "needs_background": "light"
     },
     "output_type": "display_data"
    }
   ],
   "source": [
    "# Plotting Age vs. Fuel Consumption\n",
    "plt.figure(figsize=(8, 6))\n",
    "plt.bar(df['Age'], df['Fuel_consumption'])\n",
    "plt.title('Age vs. Fuel Consumption')\n",
    "plt.xlabel('Age')\n",
    "plt.ylabel('Fuel Consumption')\n",
    "plt.grid(True)\n",
    "plt.show()"
   ]
  },
  {
   "cell_type": "code",
   "execution_count": 9,
   "id": "7284d125",
   "metadata": {},
   "outputs": [],
   "source": [
    "##Analyze how the age of a ship impacts fuel consumption. Older ships may have outdated technologies that contribute to higher fuel consumption rates."
   ]
  }
 ],
 "metadata": {
  "kernelspec": {
   "display_name": "Python 3 (ipykernel)",
   "language": "python",
   "name": "python3"
  },
  "language_info": {
   "codemirror_mode": {
    "name": "ipython",
    "version": 3
   },
   "file_extension": ".py",
   "mimetype": "text/x-python",
   "name": "python",
   "nbconvert_exporter": "python",
   "pygments_lexer": "ipython3",
   "version": "3.9.5"
  }
 },
 "nbformat": 4,
 "nbformat_minor": 5
}
